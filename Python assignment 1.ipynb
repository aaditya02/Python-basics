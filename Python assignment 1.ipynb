{
 "cells": [
  {
   "cell_type": "markdown",
   "id": "04378d75",
   "metadata": {},
   "source": [
    "# Python Basic Assignment 1"
   ]
  },
  {
   "cell_type": "markdown",
   "id": "58230565",
   "metadata": {},
   "source": [
    "1. Write First Program and share output"
   ]
  },
  {
   "cell_type": "code",
   "execution_count": 1,
   "id": "3c936aee",
   "metadata": {},
   "outputs": [
    {
     "name": "stdout",
     "output_type": "stream",
     "text": [
      "This is my First Program in Python\n"
     ]
    }
   ],
   "source": [
    "print(\"This is my First Program in Python\")"
   ]
  },
  {
   "cell_type": "markdown",
   "id": "fa0c2995",
   "metadata": {},
   "source": [
    "2. Write a program which will find all such numbers which are divisible by 7 but are not a multiple of 5, between 2000 and 3200 (both included). The numbers obtained should be printed in a comma-separated sequence on a single line."
   ]
  },
  {
   "cell_type": "code",
   "execution_count": 3,
   "id": "b0c15e73",
   "metadata": {},
   "outputs": [
    {
     "name": "stdout",
     "output_type": "stream",
     "text": [
      "2002 2009 2016 2023 2037 2044 2051 2058 2072 2079 2086 2093 2107 2114 2121 2128 2142 2149 2156 2163 2177 2184 2191 2198 2212 2219 2226 2233 2247 2254 2261 2268 2282 2289 2296 2303 2317 2324 2331 2338 2352 2359 2366 2373 2387 2394 2401 2408 2422 2429 2436 2443 2457 2464 2471 2478 2492 2499 2506 2513 2527 2534 2541 2548 2562 2569 2576 2583 2597 2604 2611 2618 2632 2639 2646 2653 2667 2674 2681 2688 2702 2709 2716 2723 2737 2744 2751 2758 2772 2779 2786 2793 2807 2814 2821 2828 2842 2849 2856 2863 2877 2884 2891 2898 2912 2919 2926 2933 2947 2954 2961 2968 2982 2989 2996 3003 3017 3024 3031 3038 3052 3059 3066 3073 3087 3094 3101 3108 3122 3129 3136 3143 3157 3164 3171 3178 3192 3199 "
     ]
    }
   ],
   "source": [
    "def find(min,max):\n",
    "    for i in range(min,max+ 1):\n",
    "        if (i%7==0) and (i%5!=0):\n",
    "            print(i, end=' ')\n",
    "find(2000, 3200)"
   ]
  },
  {
   "cell_type": "markdown",
   "id": "79530ed1",
   "metadata": {},
   "source": [
    "3. Write a Python program to accept the user's first and last name and then getting them printed in the the reverse order with a space between first name and last name"
   ]
  },
  {
   "cell_type": "code",
   "execution_count": 4,
   "id": "0f40fb56",
   "metadata": {},
   "outputs": [
    {
     "name": "stdout",
     "output_type": "stream",
     "text": [
      "firstName: Aaditya\n",
      "lastName: Kumar\n",
      "output: Kumar Aaditya\n"
     ]
    }
   ],
   "source": [
    "def print_reverse(firstName, lastName):\n",
    "    print(f\"output: {lastName} {firstName}\")\n",
    "\n",
    "firstName = input(\"firstName: \")\n",
    "lastName = input(\"lastName: \")\n",
    "print_reverse(firstName, lastName)"
   ]
  },
  {
   "cell_type": "markdown",
   "id": "0907bd1b",
   "metadata": {},
   "source": [
    "4. Write a Python program to find the volume of a sphere with diameter 12 cm. Formula: V=4/3 π r "
   ]
  },
  {
   "cell_type": "code",
   "execution_count": 5,
   "id": "531536b2",
   "metadata": {},
   "outputs": [
    {
     "name": "stdout",
     "output_type": "stream",
     "text": [
      "Volume of sphere = 904.78 cubic-cms\n"
     ]
    }
   ],
   "source": [
    "import math\n",
    "def vol_sphere(r=None):\n",
    "    V = (4/3)*(math.pi)*(r**3)\n",
    "    print(f'Volume of sphere = {round(V, 2)} cubic-cms')\n",
    "\n",
    "diameter = 12\n",
    "vol_sphere(r=diameter/2)"
   ]
  },
  {
   "cell_type": "markdown",
   "id": "97d3a190",
   "metadata": {},
   "source": [
    "5. Write a program which accepts a sequence of comma-separated numbers from console and generate a list."
   ]
  },
  {
   "cell_type": "code",
   "execution_count": 6,
   "id": "a794c1ca",
   "metadata": {},
   "outputs": [
    {
     "name": "stdout",
     "output_type": "stream",
     "text": [
      "enter data separated by commas: 2,3,4,5,6,7\n",
      "[2, 3, 4, 5, 6, 7]\n"
     ]
    }
   ],
   "source": [
    "def list_generator(data):\n",
    "    temp = data.split(',')\n",
    "    lst = [int(i) for i in temp]\n",
    "    print(lst)\n",
    "\n",
    "data = input('enter data separated by commas: ')\n",
    "list_generator(data)"
   ]
  },
  {
   "cell_type": "markdown",
   "id": "48a4d397",
   "metadata": {},
   "source": [
    "6. Create the below pattern using nested for loop in Python.\n"
   ]
  },
  {
   "cell_type": "raw",
   "id": "61aea0a3",
   "metadata": {},
   "source": [
    "*  \n",
    "* *  \n",
    "* * * \n",
    "* * * *  \n",
    "* * * * *  \n",
    "* * * *  \n",
    "* * *  \n",
    "* *  \n",
    "* "
   ]
  },
  {
   "cell_type": "code",
   "execution_count": 10,
   "id": "88a94d79",
   "metadata": {},
   "outputs": [
    {
     "name": "stdout",
     "output_type": "stream",
     "text": [
      "\n",
      "* \n",
      "* * \n",
      "* * * \n",
      "* * * * \n",
      "* * * * * \n",
      "* * * * \n",
      "* * * \n",
      "* * \n",
      "* \n"
     ]
    }
   ],
   "source": [
    "def draw_pyramid(N):\n",
    "    for i in range(N):\n",
    "        print(\"* \"*i)\n",
    "    for i in range(N,0,-1):\n",
    "        print(\"* \"*i)\n",
    "\n",
    "draw_pyramid(5)"
   ]
  },
  {
   "cell_type": "markdown",
   "id": "cb413c70",
   "metadata": {},
   "source": [
    "7. Write a Python program to reverse a word after accepting the input from the user.\n"
   ]
  },
  {
   "cell_type": "code",
   "execution_count": 12,
   "id": "a0a7cdb6",
   "metadata": {},
   "outputs": [
    {
     "name": "stdout",
     "output_type": "stream",
     "text": [
      "input a word: Aaditya\n",
      "output: aytidaA\n"
     ]
    }
   ],
   "source": [
    "def print_reverse(data):\n",
    "    print(f\"output: {data[::-1]}\")\n",
    "\n",
    "data = input(\"input a word: \")\n",
    "print_reverse(data)"
   ]
  },
  {
   "cell_type": "markdown",
   "id": "9905f3dc",
   "metadata": {},
   "source": [
    "8. Write a Python Program to print the given string in the format specified in the ​sample output.\n",
    "\n",
    "WE, THE PEOPLE OF INDIA, having solemnly resolved to constitute India into a SOVEREIGN, SOCIALIST, SECULAR, DEMOCRATIC REPUBLIC and to secure to all its citizens\n",
    "\n",
    "Sample Output:\n",
    "\n",
    "WE, THE PEOPLE OF INDIA, having solemnly resolved to constitute India into a SOVEREIGN, ! SOCIALIST, SECULAR, DEMOCRATIC REPUBLIC and to secure to all its citizens"
   ]
  },
  {
   "cell_type": "code",
   "execution_count": 11,
   "id": "eed55d83",
   "metadata": {},
   "outputs": [
    {
     "name": "stdout",
     "output_type": "stream",
     "text": [
      " WE, THE PEOPLE OF INDIA, having solemnly resolved to constitute India into a SOVEREIGN, !SOCIALIST, SECULAR, DEMOCRATIC REPUBLIC and to secure to all its citizens\n"
     ]
    }
   ],
   "source": [
    "def out(input_data):\n",
    "    out_=input_data.replace('SOCIALIST', '!SOCIALIST')\n",
    "    print(out_)\n",
    "\n",
    "input_data = \" WE, THE PEOPLE OF INDIA, having solemnly resolved to constitute India into a SOVEREIGN, SOCIALIST, SECULAR, DEMOCRATIC REPUBLIC and to secure to all its citizens\"\n",
    "out(input_data)"
   ]
  }
 ],
 "metadata": {
  "kernelspec": {
   "display_name": "Python 3 (ipykernel)",
   "language": "python",
   "name": "python3"
  },
  "language_info": {
   "codemirror_mode": {
    "name": "ipython",
    "version": 3
   },
   "file_extension": ".py",
   "mimetype": "text/x-python",
   "name": "python",
   "nbconvert_exporter": "python",
   "pygments_lexer": "ipython3",
   "version": "3.9.7"
  }
 },
 "nbformat": 4,
 "nbformat_minor": 5
}
